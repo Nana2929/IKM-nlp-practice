{
 "cells": [
  {
   "cell_type": "markdown",
   "id": "b537835c-4d65-46c5-a4e6-046e04ec2591",
   "metadata": {},
   "source": [
    "Pytorch-Lightning\n",
    "- Simple Tutorial:\n",
    "https://github.com/Lightning-AI/lightning/tree/36aa4e2ebb66fc718c17bfde0ec244f66aa0851f\n",
    "- How to use GPU: \n",
    "https://pytorch-lightning.readthedocs.io/en/latest/accelerators/gpu_basic.html\n",
    "- Notes: \n",
    "This ipython kernel cannot be interrupted (pressing the button/pressing Kernel-Interrupt Kernel). \n",
    "Also the connected terminal shows a lot same error messages:\n",
    "   `tornado.iostream.StreamClosedError: Stream is closed`"
   ]
  },
  {
   "cell_type": "code",
   "execution_count": 1,
   "id": "a0dcfed1-8efd-4fbe-b74a-ba1249d9f0e9",
   "metadata": {},
   "outputs": [
    {
     "name": "stdout",
     "output_type": "stream",
     "text": [
      "/home/P76114511/main\n"
     ]
    }
   ],
   "source": [
    "import sys\n",
    "print(sys.prefix)"
   ]
  },
  {
   "cell_type": "code",
   "execution_count": 2,
   "id": "ab2ac215-470c-4f77-a4c9-816e5c24d4ec",
   "metadata": {
    "tags": []
   },
   "outputs": [],
   "source": [
    "# go into requirements.txt \n",
    "!pip install -q torch \n",
    "!pip install -q pytorch_lightning\n",
    "!pip install -q torchvision"
   ]
  },
  {
   "cell_type": "code",
   "execution_count": 3,
   "id": "925ec18c-bc30-4227-84df-ec02f4780b9f",
   "metadata": {},
   "outputs": [],
   "source": [
    "import os\n",
    "import torch\n",
    "from torch import nn\n",
    "import torch.nn.functional as F\n",
    "from torchvision.datasets import MNIST\n",
    "from torch.utils.data import DataLoader, random_split\n",
    "from torchvision import transforms\n",
    "import pytorch_lightning as pl"
   ]
  },
  {
   "cell_type": "code",
   "execution_count": 4,
   "id": "36f797b5-68e8-47f8-8cb8-5fe339e223db",
   "metadata": {},
   "outputs": [],
   "source": [
    "!pip install -q ipywidgets"
   ]
  },
  {
   "cell_type": "code",
   "execution_count": 5,
   "id": "6ea44860-2540-4e41-bc84-fb52f424ba87",
   "metadata": {},
   "outputs": [],
   "source": [
    "class LitAutoEncoder(pl.LightningModule):\n",
    "    def __init__(self):\n",
    "        super().__init__()\n",
    "        self.encoder = nn.Sequential(nn.Linear(28 * 28, 128), nn.ReLU(), nn.Linear(128, 3))\n",
    "        self.decoder = nn.Sequential(nn.Linear(3, 128), nn.ReLU(), nn.Linear(128, 28 * 28))\n",
    "\n",
    "    def forward(self, x):\n",
    "        # in lightning, forward defines the prediction/inference actions\n",
    "        embedding = self.encoder(x)\n",
    "        return embedding\n",
    "\n",
    "    def training_step(self, batch, batch_idx):\n",
    "        # training_step defines the train loop. It is independent of forward\n",
    "        x, y = batch\n",
    "        x = x.view(x.size(0), -1)\n",
    "        z = self.encoder(x)\n",
    "        x_hat = self.decoder(z)\n",
    "        loss = F.mse_loss(x_hat, x)\n",
    "        self.log(\"train_loss\", loss)\n",
    "        return loss\n",
    "\n",
    "    def configure_optimizers(self):\n",
    "        optimizer = torch.optim.Adam(self.parameters(), lr=1e-3)\n",
    "        return optimizer"
   ]
  },
  {
   "cell_type": "code",
   "execution_count": 8,
   "id": "8ac11f29-a8c6-4100-8e46-f302ff0780e7",
   "metadata": {},
   "outputs": [],
   "source": [
    "NW = 12\n",
    "MAX_EPOCHS=5\n",
    "DEVICE=1 #number of devices want to use, not index "
   ]
  },
  {
   "cell_type": "code",
   "execution_count": null,
   "id": "d781d6d7-1c7e-40f1-9365-4d688213c6a9",
   "metadata": {},
   "outputs": [
    {
     "name": "stderr",
     "output_type": "stream",
     "text": [
      "GPU available: True (cuda), used: True\n",
      "TPU available: False, using: 0 TPU cores\n",
      "IPU available: False, using: 0 IPUs\n",
      "HPU available: False, using: 0 HPUs\n",
      "/home/P76114511/main/lib/python3.8/site-packages/pytorch_lightning/trainer/configuration_validator.py:115: UserWarning: You passed in a `val_dataloader` but have no `validation_step`. Skipping val loop.\n",
      "  rank_zero_warn(\"You passed in a `val_dataloader` but have no `validation_step`. Skipping val loop.\")\n",
      "LOCAL_RANK: 0 - CUDA_VISIBLE_DEVICES: [0,1]\n",
      "\n",
      "  | Name    | Type       | Params\n",
      "---------------------------------------\n",
      "0 | encoder | Sequential | 100 K \n",
      "1 | decoder | Sequential | 101 K \n",
      "---------------------------------------\n",
      "202 K     Trainable params\n",
      "0         Non-trainable params\n",
      "202 K     Total params\n",
      "0.810     Total estimated model params size (MB)\n"
     ]
    },
    {
     "data": {
      "application/json": {
       "ascii": false,
       "bar_format": null,
       "colour": null,
       "elapsed": 0.015395402908325195,
       "initial": 0,
       "n": 0,
       "ncols": 120,
       "nrows": 46,
       "postfix": null,
       "prefix": "Training",
       "rate": null,
       "total": null,
       "unit": "it",
       "unit_divisor": 1000,
       "unit_scale": false
      },
      "application/vnd.jupyter.widget-view+json": {
       "model_id": "b67cccc125c04b7e91375343c4cd292d",
       "version_major": 2,
       "version_minor": 0
      },
      "text/plain": [
       "Training: 0it [00:00, ?it/s]"
      ]
     },
     "metadata": {},
     "output_type": "display_data"
    }
   ],
   "source": [
    "dataset = MNIST(os.getcwd(), download=True, transform=transforms.ToTensor())\n",
    "train, val = random_split(dataset, [55000, 5000])\n",
    "autoencoder = LitAutoEncoder()\n",
    "trainer = pl.Trainer(max_epochs = MAX_EPOCHS, accelerator=\"gpu\", devices=DEVICE)\n",
    "trainer.fit(autoencoder, DataLoader(train, num_workers=NW), DataLoader(val,num_workers=NW))"
   ]
  },
  {
   "cell_type": "code",
   "execution_count": null,
   "id": "a065a461-0d9f-4c4d-bee4-32ee80aa6a8d",
   "metadata": {},
   "outputs": [],
   "source": []
  }
 ],
 "metadata": {
  "kernelspec": {
   "display_name": "Python 3 (ipykernel)",
   "language": "python",
   "name": "python3"
  },
  "language_info": {
   "codemirror_mode": {
    "name": "ipython",
    "version": 3
   },
   "file_extension": ".py",
   "mimetype": "text/x-python",
   "name": "python",
   "nbconvert_exporter": "python",
   "pygments_lexer": "ipython3",
   "version": "3.8.10"
  }
 },
 "nbformat": 4,
 "nbformat_minor": 5
}
