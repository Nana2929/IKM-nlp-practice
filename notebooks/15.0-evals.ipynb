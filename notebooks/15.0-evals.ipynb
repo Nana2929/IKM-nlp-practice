{
 "cells": [
  {
   "cell_type": "code",
   "execution_count": null,
   "metadata": {},
   "outputs": [],
   "source": [
    "PATH = {\n",
    "    'no_pretrained':,\n",
    "    'pretrained':\n",
    "}\n",
    "NPE = LSTMNet.load_from_checkpoint(PATH['no_pretrained'])\n",
    "# prints the learning_rate you used in this checkpoint\n",
    "NPE.eval()"
   ]
  },
  {
   "cell_type": "code",
   "execution_count": null,
   "metadata": {},
   "outputs": [],
   "source": [
    "PE = LSTMNet.load_from_checkpoint(PATH['pretrained'])\n",
    "# prints the learning_rate you used in this checkpoint\n",
    "PE.eval()"
   ]
  }
 ],
 "metadata": {
  "language_info": {
   "name": "python"
  },
  "orig_nbformat": 4
 },
 "nbformat": 4,
 "nbformat_minor": 2
}
