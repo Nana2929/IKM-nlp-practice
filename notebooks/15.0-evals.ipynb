{
 "cells": [
  {
   "cell_type": "code",
   "execution_count": 15,
   "metadata": {},
   "outputs": [],
   "source": [
    "import sys\n",
    "from os.path import pardir, sep\n",
    "import pandas as pd\n",
    "import random\n",
    "import numpy as np\n",
    "import torch\n",
    "import os\n",
    "from pytorch_lightning.loggers import WandbLogger\n",
    "from pytorch_lightning import Trainer\n",
    "from pytorch_lightning.callbacks import ModelCheckpoint\n",
    "from torchmetrics import Accuracy\n",
    "from torch import nn\n",
    "from torchvision.datasets import MNIST\n",
    "from torch.utils.data import DataLoader, random_split\n",
    "from torchvision import transforms\n",
    "import pytorch_lightning as pl\n",
    "from dataset import DataPreprocUtils\n",
    "from model import LSTMNet\n",
    "import wandb\n",
    "from datetime import datetime\n",
    "import argparse\n",
    "import logging\n",
    "from gensim.models import fasttext\n",
    "import numpy as np\n",
    "import pathlib\n",
    "import joblib\n",
    "\n",
    "\n",
    "sys.path.append(\"/home/P76114511/IKM-nlp-practice/AGTC\")\n",
    "from model import LSTMNet\n",
    "import numpy as np\n",
    "from sklearn.metrics import precision_recall_fscore_support, accuracy_score"
   ]
  },
  {
   "cell_type": "code",
   "execution_count": 22,
   "metadata": {},
   "outputs": [
    {
     "name": "stderr",
     "output_type": "stream",
     "text": [
      "Global seed set to 42\n"
     ]
    }
   ],
   "source": [
    "\n",
    "ROOT = f'/home/P76114511/IKM-nlp-practice'\n",
    "PATH = {\n",
    "    'no_pretrained':f'{ROOT}/AGTC/checkpoints/AG-epoch=09-val_acc=0.90.ckpt',\n",
    "    'pretrained':f'{ROOT}/AGTC/pretrained_checkpoints/AG-epoch=09-val_acc=0.92.ckpt'\n",
    "}\n",
    "NPE = LSTMNet.load_from_checkpoint(PATH['no_pretrained'])\n",
    "preds = []\n",
    "golds = []\n",
    "NPE.eval()\n",
    "# testloader needs to be pickled... \n",
    "# not a very beautiful way of doing it but it's so late I want to sleep\n",
    "\n",
    "testloader = joblib.load('/home/P76114511/IKM-nlp-practice/data/AG-testloader.pkl')\n",
    "for X, y in testloader:\n",
    "    with torch.no_grad():\n",
    "        y_hat = NPE(X)\n",
    "        y_hat = torch.argmax(y_hat, axis = 1)\n",
    "    golds.extend(y.numpy())\n",
    "    preds.extend(y_hat.numpy())\n"
   ]
  },
  {
   "cell_type": "code",
   "execution_count": 23,
   "metadata": {},
   "outputs": [
    {
     "name": "stdout",
     "output_type": "stream",
     "text": [
      "0.9028947368421053\n"
     ]
    }
   ],
   "source": [
    "print(accuracy_score(golds, preds))\n",
    "npestats = precision_recall_fscore_support(golds, preds, average='macro')"
   ]
  },
  {
   "cell_type": "code",
   "execution_count": 24,
   "metadata": {},
   "outputs": [
    {
     "name": "stderr",
     "output_type": "stream",
     "text": [
      "Global seed set to 42\n"
     ]
    },
    {
     "name": "stdout",
     "output_type": "stream",
     "text": [
      "0.9227631578947368\n"
     ]
    }
   ],
   "source": [
    "\n",
    "PE = LSTMNet.load_from_checkpoint(PATH['pretrained'])\n",
    "preds = []\n",
    "golds = []\n",
    "PE.eval()\n",
    "\n",
    "for X, y in testloader:\n",
    "    with torch.no_grad():\n",
    "        y_hat = PE(X)\n",
    "        y_hat = torch.argmax(y_hat, axis = 1)\n",
    "    golds.extend(y.numpy())\n",
    "    preds.extend(y_hat.numpy())\n",
    "print(accuracy_score(golds, preds))\n",
    "pestats = precision_recall_fscore_support(golds, preds, average='macro')\n"
   ]
  },
  {
   "cell_type": "code",
   "execution_count": 27,
   "metadata": {},
   "outputs": [
    {
     "data": {
      "text/html": [
       "<div>\n",
       "<style scoped>\n",
       "    .dataframe tbody tr th:only-of-type {\n",
       "        vertical-align: middle;\n",
       "    }\n",
       "\n",
       "    .dataframe tbody tr th {\n",
       "        vertical-align: top;\n",
       "    }\n",
       "\n",
       "    .dataframe thead th {\n",
       "        text-align: right;\n",
       "    }\n",
       "</style>\n",
       "<table border=\"1\" class=\"dataframe\">\n",
       "  <thead>\n",
       "    <tr style=\"text-align: right;\">\n",
       "      <th></th>\n",
       "      <th>w/o pretrained</th>\n",
       "      <th>w/ pretrained</th>\n",
       "    </tr>\n",
       "  </thead>\n",
       "  <tbody>\n",
       "    <tr>\n",
       "      <th>precision</th>\n",
       "      <td>0.903494</td>\n",
       "      <td>0.923097</td>\n",
       "    </tr>\n",
       "    <tr>\n",
       "      <th>recall</th>\n",
       "      <td>0.902895</td>\n",
       "      <td>0.922763</td>\n",
       "    </tr>\n",
       "    <tr>\n",
       "      <th>f1 macro</th>\n",
       "      <td>0.902972</td>\n",
       "      <td>0.922768</td>\n",
       "    </tr>\n",
       "    <tr>\n",
       "      <th>support</th>\n",
       "      <td>NaN</td>\n",
       "      <td>NaN</td>\n",
       "    </tr>\n",
       "  </tbody>\n",
       "</table>\n",
       "</div>"
      ],
      "text/plain": [
       "           w/o pretrained  w/ pretrained\n",
       "precision        0.903494       0.923097\n",
       "recall           0.902895       0.922763\n",
       "f1 macro         0.902972       0.922768\n",
       "support               NaN            NaN"
      ]
     },
     "execution_count": 27,
     "metadata": {},
     "output_type": "execute_result"
    }
   ],
   "source": [
    "# w/o https://wandb.ai/nana2929/IKM-nlp-practice/runs/1o26tdly\n",
    "# w/ https://wandb.ai/nana2929/IKM-nlp-practice/runs/3qo3tj38\n",
    "pd.DataFrame({'w/o pretrained': npestats, \n",
    "            'w/ pretrained': pestats}, index = ['precision', 'recall', 'f1 macro', 'support'])"
   ]
  },
  {
   "cell_type": "code",
   "execution_count": null,
   "metadata": {},
   "outputs": [],
   "source": []
  }
 ],
 "metadata": {
  "kernelspec": {
   "display_name": "Python 3 (ipykernel)",
   "language": "python",
   "name": "python3"
  },
  "language_info": {
   "codemirror_mode": {
    "name": "ipython",
    "version": 3
   },
   "file_extension": ".py",
   "mimetype": "text/x-python",
   "name": "python",
   "nbconvert_exporter": "python",
   "pygments_lexer": "ipython3",
   "version": "3.8.10"
  },
  "orig_nbformat": 4
 },
 "nbformat": 4,
 "nbformat_minor": 2
}
