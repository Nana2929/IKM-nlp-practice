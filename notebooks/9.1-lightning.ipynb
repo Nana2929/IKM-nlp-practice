{
 "cells": [
  {
   "cell_type": "code",
   "execution_count": 4,
   "id": "24168426-f506-43a9-aaf4-a4ba0d29bf59",
   "metadata": {},
   "outputs": [],
   "source": [
    "# go into requirements.txt \n",
    "# !pip -q install pandas\n",
    "!pip -q install nltk\n",
    "# !pip -q install torchtext\n",
    "# !pip install -q torch \n",
    "# !pip install -q pytorch_lightning\n",
    "# !pip install -q torchvision"
   ]
  },
  {
   "cell_type": "code",
   "execution_count": 9,
   "id": "756abe3e-d50f-4633-8a0c-dfa25da32bbb",
   "metadata": {},
   "outputs": [],
   "source": [
    "import pandas as pd\n",
    "import random \n",
    "import zipfile\n",
    "# with zipfile.ZipFile('./data/ag-news-classification-dataset.zip') as zf:\n",
    "#     zf.extractall('./data/')"
   ]
  },
  {
   "cell_type": "code",
   "execution_count": 11,
   "id": "1ec22f1e-ea0d-4cf9-9e7b-8115d2791173",
   "metadata": {},
   "outputs": [
    {
     "data": {
      "text/html": [
       "<div>\n",
       "<style scoped>\n",
       "    .dataframe tbody tr th:only-of-type {\n",
       "        vertical-align: middle;\n",
       "    }\n",
       "\n",
       "    .dataframe tbody tr th {\n",
       "        vertical-align: top;\n",
       "    }\n",
       "\n",
       "    .dataframe thead th {\n",
       "        text-align: right;\n",
       "    }\n",
       "</style>\n",
       "<table border=\"1\" class=\"dataframe\">\n",
       "  <thead>\n",
       "    <tr style=\"text-align: right;\">\n",
       "      <th></th>\n",
       "      <th>Class Index</th>\n",
       "      <th>Title</th>\n",
       "      <th>Description</th>\n",
       "    </tr>\n",
       "  </thead>\n",
       "  <tbody>\n",
       "    <tr>\n",
       "      <th>0</th>\n",
       "      <td>3</td>\n",
       "      <td>Wall St. Bears Claw Back Into the Black (Reuters)</td>\n",
       "      <td>Reuters - Short-sellers, Wall Street's dwindli...</td>\n",
       "    </tr>\n",
       "    <tr>\n",
       "      <th>1</th>\n",
       "      <td>3</td>\n",
       "      <td>Carlyle Looks Toward Commercial Aerospace (Reu...</td>\n",
       "      <td>Reuters - Private investment firm Carlyle Grou...</td>\n",
       "    </tr>\n",
       "    <tr>\n",
       "      <th>2</th>\n",
       "      <td>3</td>\n",
       "      <td>Oil and Economy Cloud Stocks' Outlook (Reuters)</td>\n",
       "      <td>Reuters - Soaring crude prices plus worries\\ab...</td>\n",
       "    </tr>\n",
       "    <tr>\n",
       "      <th>3</th>\n",
       "      <td>3</td>\n",
       "      <td>Iraq Halts Oil Exports from Main Southern Pipe...</td>\n",
       "      <td>Reuters - Authorities have halted oil export\\f...</td>\n",
       "    </tr>\n",
       "    <tr>\n",
       "      <th>4</th>\n",
       "      <td>3</td>\n",
       "      <td>Oil prices soar to all-time record, posing new...</td>\n",
       "      <td>AFP - Tearaway world oil prices, toppling reco...</td>\n",
       "    </tr>\n",
       "  </tbody>\n",
       "</table>\n",
       "</div>"
      ],
      "text/plain": [
       "   Class Index                                              Title  \\\n",
       "0            3  Wall St. Bears Claw Back Into the Black (Reuters)   \n",
       "1            3  Carlyle Looks Toward Commercial Aerospace (Reu...   \n",
       "2            3    Oil and Economy Cloud Stocks' Outlook (Reuters)   \n",
       "3            3  Iraq Halts Oil Exports from Main Southern Pipe...   \n",
       "4            3  Oil prices soar to all-time record, posing new...   \n",
       "\n",
       "                                         Description  \n",
       "0  Reuters - Short-sellers, Wall Street's dwindli...  \n",
       "1  Reuters - Private investment firm Carlyle Grou...  \n",
       "2  Reuters - Soaring crude prices plus worries\\ab...  \n",
       "3  Reuters - Authorities have halted oil export\\f...  \n",
       "4  AFP - Tearaway world oil prices, toppling reco...  "
      ]
     },
     "execution_count": 11,
     "metadata": {},
     "output_type": "execute_result"
    }
   ],
   "source": [
    "# datasets.py\n",
    "trainpath = '../data/train.csv'\n",
    "testpath = '../data/test.csv'\n",
    "train = pd.read_csv(trainpath)\n",
    "test = pd.read_csv(testpath)\n",
    "train.head(5)"
   ]
  },
  {
   "cell_type": "code",
   "execution_count": 17,
   "id": "e9d1893f-04f2-4de1-81de-ba33af9c88cd",
   "metadata": {},
   "outputs": [],
   "source": [
    "# concatenate Title and Description\n",
    "# clean and tokenize \n",
    "from torchtext.data import get_tokenizer\n",
    "from nltk.corpus import stopwords\n",
    "import nltk\n",
    "import re\n",
    "try:\n",
    "    stopwords = set(stopwords.words('english'))\n",
    "except LookupError as e:\n",
    "    print(f\"{e}, {e.__class__}\")\n",
    "    nltk.download('stopwords')\n",
    "    stopwords = set(stopwords.words('english'))\n",
    "    "
   ]
  },
  {
   "cell_type": "code",
   "execution_count": 18,
   "id": "feab7aaa-085e-4a50-beeb-389466cb1cae",
   "metadata": {},
   "outputs": [
    {
     "name": "stderr",
     "output_type": "stream",
     "text": [
      "[nltk_data] Downloading package punkt to /home/P76114511/nltk_data...\n",
      "[nltk_data]   Unzipping tokenizers/punkt.zip.\n"
     ]
    },
    {
     "data": {
      "text/plain": [
       "True"
      ]
     },
     "execution_count": 18,
     "metadata": {},
     "output_type": "execute_result"
    }
   ],
   "source": [
    "nltk.download('punkt')"
   ]
  },
  {
   "cell_type": "code",
   "execution_count": null,
   "id": "30e5db0b-7705-4de5-9ce5-bc9fbbc48c46",
   "metadata": {},
   "outputs": [],
   "source": [
    "# utils.py\n",
    "def clean(x):\n",
    "    text,label = x['text'], x['label']\n",
    "    return {'text': re.sub(r'[~`\\-!@#$%^&*():;\"{}_/?><\\|.,`0-9\\\\]',' ',text), # regex replace multiple spaces to one \n",
    "            'label':label}"
   ]
  },
  {
   "cell_type": "code",
   "execution_count": 30,
   "id": "8b22043c-42cf-461a-8f82-db84a92945a2",
   "metadata": {},
   "outputs": [],
   "source": [
    "def preproc(title, descrip):\n",
    "    text = title + '.' + descrip\n",
    "    text = re.sub(r'[~`\\-!@#$%^&*():;\"{}_/?><\\|.,`0-9\\\\]',' ',text)\n",
    "    text = nltk.word_tokenize(text)     # as suggested by senpai \n",
    "    text = [tok for tok in text if tok not in stopwords]\n",
    "    return text\n",
    "from torchtext.vocab import build_vocab_from_iterator\n",
    "def build_vocab(datasets):\n",
    "      for dataset in datasets:\n",
    "        for rid, data in dataset.iterrows():\n",
    "            text = data['preproc_text']\n",
    "            yield text\n",
    "tokenizer = get_tokenizer(\"basic_english\")\n",
    "train['preproc_text'] = train.apply(lambda x:preproc(x['Title'], x['Description']), axis=1)\n",
    "test['preproc_text'] = test.apply(lambda x:preproc(x['Title'], x['Description']), axis=1)\n",
    "# class IterableTexts:\n",
    "#   def __iter__(self):\n",
    "#     for dataset in [trainset, testset]:\n",
    "#         for data in dataset:\n",
    "#             text = data['text']\n",
    "#             yield list(x.lower() for x in tokenizer(text) if x.lower() not in stopwords)"
   ]
  },
  {
   "cell_type": "code",
   "execution_count": 36,
   "id": "4aea6163-05f8-47e0-bba5-10f3f0f0d97f",
   "metadata": {},
   "outputs": [],
   "source": [
    "vocabs = build_vocab_from_iterator(build_vocab([train, test]), \n",
    "                                   specials=[\"[PAD]\", \"[UNK]\"], max_tokens = None)\n",
    "vocabs.set_default_index(vocabs[\"[UNK]\"]) # let padding be index 0 \n",
    "print(len(vocabs))\n",
    "vocabs.get_stoi()\n",
    "vocabs['[UNK]']"
   ]
  },
  {
   "cell_type": "code",
   "execution_count": 38,
   "id": "f5313edb-1298-43a1-a747-5f0f4e152a7f",
   "metadata": {},
   "outputs": [
    {
     "data": {
      "text/plain": [
       "1"
      ]
     },
     "execution_count": 38,
     "metadata": {},
     "output_type": "execute_result"
    }
   ],
   "source": [
    "vocabs.get_stoi()\n",
    "vocabs['[UNK]']"
   ]
  },
  {
   "cell_type": "code",
   "execution_count": null,
   "id": "7208cfff-cd95-4b83-93a8-d8a1f349bfb7",
   "metadata": {},
   "outputs": [],
   "source": [
    "# wrap into dataloaders, collator and shuffling "
   ]
  },
  {
   "cell_type": "code",
   "execution_count": null,
   "id": "82470efc-43f3-4f14-9ecb-5a508e9723b7",
   "metadata": {},
   "outputs": [],
   "source": [
    "# set up Lightning model architecture "
   ]
  },
  {
   "cell_type": "code",
   "execution_count": null,
   "id": "910ebbda-6a20-45ca-afb9-5014d268d842",
   "metadata": {},
   "outputs": [],
   "source": [
    "# Trainer.fit "
   ]
  }
 ],
 "metadata": {
  "kernelspec": {
   "display_name": "Python 3 (ipykernel)",
   "language": "python",
   "name": "python3"
  },
  "language_info": {
   "codemirror_mode": {
    "name": "ipython",
    "version": 3
   },
   "file_extension": ".py",
   "mimetype": "text/x-python",
   "name": "python",
   "nbconvert_exporter": "python",
   "pygments_lexer": "ipython3",
   "version": "3.8.10"
  }
 },
 "nbformat": 4,
 "nbformat_minor": 5
}
